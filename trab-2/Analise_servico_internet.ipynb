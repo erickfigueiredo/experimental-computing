{
 "cells": [
  {
   "cell_type": "markdown",
   "metadata": {},
   "source": [
    "### Bibliotecas e Funções"
   ]
  },
  {
   "cell_type": "code",
   "execution_count": null,
   "metadata": {},
   "outputs": [],
   "source": [
    "import pandas as pd\n",
    "from scipy import stats\n",
    "from math import sqrt, ceil\n"
   ]
  },
  {
   "cell_type": "code",
   "execution_count": null,
   "metadata": {},
   "outputs": [],
   "source": [
    "def calc_metrics(df, column):\n",
    "    return df[column].mean(), df[column].median(), df[column].std()"
   ]
  },
  {
   "cell_type": "code",
   "execution_count": null,
   "metadata": {},
   "outputs": [],
   "source": [
    "def calc_confidence_interval(t_student_value, mean, std, n ):\n",
    "    lower = mean - (t_student_value) * (std)/sqrt(n)\n",
    "    upper = mean + (t_student_value) * (std)/sqrt(n)\n",
    "    \n",
    "    return (lower, upper)\n"
   ]
  },
  {
   "cell_type": "code",
   "execution_count": null,
   "metadata": {},
   "outputs": [],
   "source": [
    "def calc_non_normal_confidence_interval(df, column, mean, confidence, n):\n",
    "    se = stats.sem(df[column])\n",
    "    h = se * stats.t._ppf((1+confidence)/2., n-1)\n",
    "    \n",
    "    return (mean - h, mean + h)\n"
   ]
  },
  {
   "cell_type": "code",
   "execution_count": 153,
   "metadata": {},
   "outputs": [],
   "source": [
    "def calc_v_t_student(std1, std2, n1, n2=None):\n",
    "    n2 = n1 if n2 is None else n2\n",
    "\n",
    "    f1 = std1**2/n1\n",
    "    f2 = std2**2/n2\n",
    "\n",
    "    return ceil((f1+f2)**2/((f1**2/(n1-1))+(f2**2/(n2-1))))\n"
   ]
  },
  {
   "cell_type": "code",
   "execution_count": 154,
   "metadata": {},
   "outputs": [],
   "source": [
    "def calc_confidence_interval(t_student_value, mean1, mean2, std1, std2, n1, n2=None):\n",
    "    n2 = n1 if n2 is None else n2\n",
    "\n",
    "    f1 = std1**2/n1\n",
    "    f2 = std2**2/n2\n",
    "\n",
    "    lower = mean1 - mean2 - t_student_value * sqrt(f1 + f2)\n",
    "    upper = mean1 - mean2 + t_student_value * sqrt(f1 + f2)\n",
    "\n",
    "    return (lower, upper)\n"
   ]
  },
  {
   "cell_type": "markdown",
   "metadata": {},
   "source": [
    "### 1 - Análise da internet sem usar dados ativamente"
   ]
  },
  {
   "cell_type": "markdown",
   "metadata": {},
   "source": [
    "Método de Medição: Medição realizada via Wifi, uma vez que meus disposivos não possuem conectividade ethernet\n",
    "\n",
    "Plano contratado: VERO - 680MB\n",
    "\n",
    "Medidor Utilizado: [Speed Test](https://www.speedtest.net/)\n"
   ]
  },
  {
   "cell_type": "code",
   "execution_count": null,
   "metadata": {},
   "outputs": [],
   "source": [
    "idle = pd.read_csv('./data/erick/parado.csv')\n",
    "idle"
   ]
  },
  {
   "cell_type": "code",
   "execution_count": null,
   "metadata": {},
   "outputs": [],
   "source": [
    "download_mean, download_median, download_std = calc_metrics(idle, 'speed_download')\n",
    "\n",
    "print(f'Média de Download: {download_mean}')\n",
    "print(f'Mediana de Download: {download_median}')\n",
    "print(f'Desvio Padrão: {download_std}')\n"
   ]
  },
  {
   "cell_type": "code",
   "execution_count": null,
   "metadata": {},
   "outputs": [],
   "source": [
    "upload_mean, upload_median, upload_std = calc_metrics(idle, 'speed_upload')\n",
    "\n",
    "print(f'Média de Upload: {upload_mean}')\n",
    "print(f'Mediana de Upload: {upload_median}')\n",
    "print(f'Desvio Padrão: {upload_std}')"
   ]
  },
  {
   "cell_type": "markdown",
   "metadata": {},
   "source": [
    "##### Considerando Distribuição Normal"
   ]
  },
  {
   "cell_type": "markdown",
   "metadata": {},
   "source": [
    "Para o cálculo da média populacional vamos empregar o caso 4, presente nos slides:\n",
    "\n",
    "Intervalo de confiança para a média populacional µ de uma distribuição normal com a variância populacional σ² desconhecida e amostra pequena:"
   ]
  },
  {
   "cell_type": "code",
   "execution_count": null,
   "metadata": {},
   "outputs": [],
   "source": [
    "confidence = .95\n",
    "alpha = 1 - confidence\n",
    "\n",
    "n = len(idle[\"speed_download\"])\n",
    "print(f't{round(alpha/2,3)}; {n-1}')"
   ]
  },
  {
   "cell_type": "markdown",
   "metadata": {},
   "source": [
    "Buscamos o valor acima na tabela T-Student e dela retiramos 2.145"
   ]
  },
  {
   "cell_type": "code",
   "execution_count": null,
   "metadata": {},
   "outputs": [],
   "source": [
    "download_confidence = calc_confidence_interval(2.145, download_mean, download_std, n)\n",
    "\n",
    "print(download_confidence)"
   ]
  },
  {
   "cell_type": "code",
   "execution_count": null,
   "metadata": {},
   "outputs": [],
   "source": [
    "upload_confidence = calc_confidence_interval(2.145, upload_mean, upload_std, n)\n",
    "\n",
    "print(upload_confidence)"
   ]
  },
  {
   "cell_type": "markdown",
   "metadata": {},
   "source": [
    "##### Sem Considerar Distribuição Normal"
   ]
  },
  {
   "cell_type": "code",
   "execution_count": null,
   "metadata": {},
   "outputs": [],
   "source": [
    "n_download_confidence = calc_non_normal_confidence_interval(idle, 'speed_download', download_mean, confidence, n)\n",
    "\n",
    "print(n_download_confidence)"
   ]
  },
  {
   "cell_type": "code",
   "execution_count": null,
   "metadata": {},
   "outputs": [],
   "source": [
    "n_upload_confidence = calc_non_normal_confidence_interval(idle, 'speed_upload', upload_mean, confidence, n)\n",
    "\n",
    "print(n_upload_confidence)"
   ]
  },
  {
   "cell_type": "markdown",
   "metadata": {},
   "source": [
    "### 2 - Comparando Medidores"
   ]
  },
  {
   "cell_type": "markdown",
   "metadata": {},
   "source": [
    "Método de Medição: Medição realizada via Wifi, uma vez que meus disposivos não possuem conectividade ethernet\n",
    "\n",
    "Plano contratado: VERO - 680MB\n",
    "\n",
    "Medidores Utilizados: [Fast](https://fast.com/pt/#), [N Perf](https://www.nperf.com/pt/)\n"
   ]
  },
  {
   "cell_type": "markdown",
   "metadata": {},
   "source": [
    "#### Medidor Fast"
   ]
  },
  {
   "cell_type": "code",
   "execution_count": 162,
   "metadata": {},
   "outputs": [
    {
     "name": "stdout",
     "output_type": "stream",
     "text": [
      "Média de Download: 270.6666666666667\n",
      "Mediana de Download: 270.0\n",
      "Desvio Padrão: 94.90345971916234\n",
      "\n",
      "Média de Upload: 165.73333333333332\n",
      "Mediana de Upload: 180.0\n",
      "Desvio Padrão: 71.97962674720304\n"
     ]
    }
   ],
   "source": [
    "fast_download_mean, fast_download_median, fast_download_std = calc_metrics(idle, 'fast_download')\n",
    "\n",
    "print(f'Média de Download: {fast_download_mean}')\n",
    "print(f'Mediana de Download: {fast_download_median}')\n",
    "print(f'Desvio Padrão: {fast_download_std}\\n')\n",
    "\n",
    "fast_upload_mean, fast_upload_median, fast_upload_std = calc_metrics(idle, 'fast_upload')\n",
    "\n",
    "print(f'Média de Upload: {fast_upload_mean}')\n",
    "print(f'Mediana de Upload: {fast_upload_median}')\n",
    "print(f'Desvio Padrão: {fast_upload_std}')\n",
    "\n"
   ]
  },
  {
   "cell_type": "markdown",
   "metadata": {},
   "source": [
    "#### Medidor nPerf\n"
   ]
  },
  {
   "cell_type": "code",
   "execution_count": 161,
   "metadata": {},
   "outputs": [
    {
     "name": "stdout",
     "output_type": "stream",
     "text": [
      "Média de Download: 253.66\n",
      "Mediana de Download: 263.6\n",
      "Desvio Padrão: 38.01473022771192\n",
      "\n",
      "Média de Upload: 284.12\n",
      "Mediana de Upload: 267.3\n",
      "Desvio Padrão: 36.16672108839443\n"
     ]
    }
   ],
   "source": [
    "nperf_download_mean, nperf_download_median, nperf_download_std = calc_metrics(idle, 'nperf_download')\n",
    "\n",
    "print(f'Média de Download: {nperf_download_mean}')\n",
    "print(f'Mediana de Download: {nperf_download_median}')\n",
    "print(f'Desvio Padrão: {nperf_download_std}\\n')\n",
    "\n",
    "nperf_upload_mean, nperf_upload_median, nperf_upload_std = calc_metrics(idle, 'nperf_upload')\n",
    "\n",
    "print(f'Média de Upload: {nperf_upload_mean}')\n",
    "print(f'Mediana de Upload: {nperf_upload_median}')\n",
    "print(f'Desvio Padrão: {nperf_upload_std}')"
   ]
  },
  {
   "cell_type": "code",
   "execution_count": null,
   "metadata": {},
   "outputs": [],
   "source": [
    "n = len(idle['fast_download'])\n",
    "confidence = .95"
   ]
  },
  {
   "cell_type": "markdown",
   "metadata": {},
   "source": [
    "$$H0: Download\\;Fast = Download\\;NPerf$$\n",
    "$$H1: Download\\;Fast > Download\\;NPerf$$"
   ]
  },
  {
   "cell_type": "code",
   "execution_count": 155,
   "metadata": {},
   "outputs": [
    {
     "name": "stdout",
     "output_type": "stream",
     "text": [
      "t0.05; 19\n"
     ]
    }
   ],
   "source": [
    "v = calc_v_t_student(fast_download_std, nperf_download_std, n)\n",
    "print(f't{round(1-confidence,3)}; {v}')"
   ]
  },
  {
   "cell_type": "markdown",
   "metadata": {},
   "source": [
    "Buscamos o valor acima na tabela T-Student e dela retiramos 1.729.\n",
    "\n",
    "Calculando o intervalo de confiança unilateral obtemos:"
   ]
  },
  {
   "cell_type": "code",
   "execution_count": 158,
   "metadata": {},
   "outputs": [
    {
     "name": "stdout",
     "output_type": "stream",
     "text": [
      "(-28.633227235094793, 62.64656056842817)\n"
     ]
    }
   ],
   "source": [
    "download_comp_interval = calc_confidence_interval(1.729, fast_download_mean, nperf_download_mean, nperf_download_std, fast_download_std, n)\n",
    "print(download_comp_interval)"
   ]
  },
  {
   "cell_type": "markdown",
   "metadata": {},
   "source": [
    "$$H0: Upload\\;NPerf = Upload\\;Fast$$\n",
    "$$H1: Upload\\;NPerf > Upload\\;Fast$$"
   ]
  },
  {
   "cell_type": "code",
   "execution_count": 163,
   "metadata": {},
   "outputs": [
    {
     "name": "stdout",
     "output_type": "stream",
     "text": [
      "t0.05; 21\n"
     ]
    }
   ],
   "source": [
    "v = calc_v_t_student(nperf_upload_std, fast_upload_std, n)\n",
    "print(f't{round(1-confidence,3)}; {v}')"
   ]
  },
  {
   "cell_type": "markdown",
   "metadata": {},
   "source": [
    "Buscamos o valor acima na tabela T-Student e dela retiramos 1.721.\n",
    "\n",
    "Calculando o intervalo de confiança unilateral obtemos:"
   ]
  },
  {
   "cell_type": "code",
   "execution_count": 164,
   "metadata": {},
   "outputs": [
    {
     "name": "stdout",
     "output_type": "stream",
     "text": [
      "(82.59125016516622, 154.18208316816714)\n"
     ]
    }
   ],
   "source": [
    "download_comp_interval = calc_confidence_interval(1.721, nperf_upload_mean, fast_upload_mean, nperf_upload_std, fast_upload_std, n)\n",
    "print(download_comp_interval)"
   ]
  },
  {
   "cell_type": "code",
   "execution_count": null,
   "metadata": {},
   "outputs": [],
   "source": []
  }
 ],
 "metadata": {
  "kernelspec": {
   "display_name": "Python 3.9.12 ('uacs')",
   "language": "python",
   "name": "python3"
  },
  "language_info": {
   "codemirror_mode": {
    "name": "ipython",
    "version": 3
   },
   "file_extension": ".py",
   "mimetype": "text/x-python",
   "name": "python",
   "nbconvert_exporter": "python",
   "pygments_lexer": "ipython3",
   "version": "3.9.12"
  },
  "orig_nbformat": 4,
  "vscode": {
   "interpreter": {
    "hash": "4fa88b2ecc37c4e6d493438b2702ae98d774cf85ffc67b686453436e4081efdd"
   }
  }
 },
 "nbformat": 4,
 "nbformat_minor": 2
}
