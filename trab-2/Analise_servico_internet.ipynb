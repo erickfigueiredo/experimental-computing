{
 "cells": [
  {
   "cell_type": "markdown",
   "metadata": {},
   "source": [
    "### Bibliotecas e Funções"
   ]
  },
  {
   "cell_type": "code",
   "execution_count": null,
   "metadata": {},
   "outputs": [],
   "source": [
    "import pandas as pd\n",
    "from scipy import stats\n",
    "from math import sqrt, ceil\n",
    "import matplotlib.pyplot as plt\n",
    "\n"
   ]
  },
  {
   "cell_type": "code",
   "execution_count": null,
   "metadata": {},
   "outputs": [],
   "source": [
    "def calc_metrics(df, column):\n",
    "    return df[column].mean(), df[column].median(), df[column].std()"
   ]
  },
  {
   "cell_type": "code",
   "execution_count": null,
   "metadata": {},
   "outputs": [],
   "source": [
    "def calc_confidence_interval(t_student_value, mean, std, n ):\n",
    "    lower = mean - (t_student_value) * (std)/sqrt(n)\n",
    "    upper = mean + (t_student_value) * (std)/sqrt(n)\n",
    "    \n",
    "    return (lower, upper)\n"
   ]
  },
  {
   "cell_type": "code",
   "execution_count": null,
   "metadata": {},
   "outputs": [],
   "source": [
    "def calc_non_normal_confidence_interval(df, column, mean, confidence, n):\n",
    "    se = stats.sem(df[column])\n",
    "    h = se * stats.t._ppf((1+confidence)/2., n-1)\n",
    "    \n",
    "    return (mean - h, mean + h)\n"
   ]
  },
  {
   "cell_type": "code",
   "execution_count": null,
   "metadata": {},
   "outputs": [],
   "source": [
    "def calc_v_t_student(std1, std2, n1, n2=None):\n",
    "    n2 = n1 if n2 is None else n2\n",
    "\n",
    "    f1 = std1**2/n1\n",
    "    f2 = std2**2/n2\n",
    "\n",
    "    return ceil((f1+f2)**2/((f1**2/(n1-1))+(f2**2/(n2-1))))\n"
   ]
  },
  {
   "cell_type": "code",
   "execution_count": null,
   "metadata": {},
   "outputs": [],
   "source": [
    "def calc_confidence_interval_comp(t_student_value, mean1, mean2, std1, std2, n1, n2=None):\n",
    "    n2 = n1 if n2 is None else n2\n",
    "\n",
    "    f1 = std1**2/n1\n",
    "    f2 = std2**2/n2\n",
    "\n",
    "    lower = mean1 - mean2 - t_student_value * sqrt(f1 + f2)\n",
    "    upper = mean1 - mean2 + t_student_value * sqrt(f1 + f2)\n",
    "\n",
    "    return (lower, upper)\n"
   ]
  },
  {
   "cell_type": "markdown",
   "metadata": {},
   "source": [
    "### 1 - Medidas de Velocidade"
   ]
  },
  {
   "cell_type": "markdown",
   "metadata": {},
   "source": [
    "Método de Medição: Medição realizada via Wifi, uma vez que meus disposivos não possuem conectividade ethernet\n",
    "\n",
    "Plano contratado: VERO - 680MB\n",
    "\n",
    "Medidor Utilizado: [Speed Test](https://www.speedtest.net/)\n"
   ]
  },
  {
   "cell_type": "code",
   "execution_count": null,
   "metadata": {},
   "outputs": [],
   "source": [
    "idle = pd.read_csv('./data/erick/parado.csv')\n",
    "idle"
   ]
  },
  {
   "cell_type": "code",
   "execution_count": null,
   "metadata": {},
   "outputs": [],
   "source": [
    "ax = idle[['speed_download', 'speed_upload']].plot()\n",
    "ax.set_xlabel(\"Intervalos de Medida\")\n",
    "ax.set_ylabel(\"Velocidade\")\n",
    "plt.show()\n"
   ]
  },
  {
   "cell_type": "code",
   "execution_count": null,
   "metadata": {},
   "outputs": [],
   "source": [
    "download_mean, download_median, download_std = calc_metrics(idle, 'speed_download')\n",
    "\n",
    "print(f'Média de Download: {download_mean}')\n",
    "print(f'Mediana de Download: {download_median}')\n",
    "print(f'Desvio Padrão: {download_std}')\n"
   ]
  },
  {
   "cell_type": "code",
   "execution_count": null,
   "metadata": {},
   "outputs": [],
   "source": [
    "upload_mean, upload_median, upload_std = calc_metrics(idle, 'speed_upload')\n",
    "\n",
    "print(f'Média de Upload: {upload_mean}')\n",
    "print(f'Mediana de Upload: {upload_median}')\n",
    "print(f'Desvio Padrão: {upload_std}')"
   ]
  },
  {
   "cell_type": "markdown",
   "metadata": {},
   "source": [
    "##### Considerando Distribuição Normal"
   ]
  },
  {
   "cell_type": "markdown",
   "metadata": {},
   "source": [
    "Para o cálculo da média populacional vamos empregar o caso 4, presente nos slides:\n",
    "\n",
    "Intervalo de confiança para a média populacional µ de uma distribuição normal com a variância populacional σ² desconhecida e amostra pequena:"
   ]
  },
  {
   "cell_type": "code",
   "execution_count": null,
   "metadata": {},
   "outputs": [],
   "source": [
    "confidence = .95\n",
    "alpha = 1 - confidence\n",
    "\n",
    "n = len(idle[\"speed_download\"])\n",
    "print(f't{round(alpha/2,3)}; {n-1}')"
   ]
  },
  {
   "cell_type": "markdown",
   "metadata": {},
   "source": [
    "Buscamos o valor acima na tabela T-Student e dela retiramos 2.145"
   ]
  },
  {
   "cell_type": "code",
   "execution_count": null,
   "metadata": {},
   "outputs": [],
   "source": [
    "download_confidence = calc_confidence_interval(2.145, download_mean, download_std, n)\n",
    "\n",
    "print(download_confidence)"
   ]
  },
  {
   "cell_type": "code",
   "execution_count": null,
   "metadata": {},
   "outputs": [],
   "source": [
    "upload_confidence = calc_confidence_interval(2.145, upload_mean, upload_std, n)\n",
    "\n",
    "print(upload_confidence)"
   ]
  },
  {
   "cell_type": "markdown",
   "metadata": {},
   "source": [
    "##### Sem Considerar Distribuição Normal"
   ]
  },
  {
   "cell_type": "code",
   "execution_count": null,
   "metadata": {},
   "outputs": [],
   "source": [
    "n_download_confidence = calc_non_normal_confidence_interval(idle, 'speed_download', download_mean, confidence, n)\n",
    "\n",
    "print(n_download_confidence)"
   ]
  },
  {
   "cell_type": "code",
   "execution_count": null,
   "metadata": {},
   "outputs": [],
   "source": [
    "n_upload_confidence = calc_non_normal_confidence_interval(idle, 'speed_upload', upload_mean, confidence, n)\n",
    "\n",
    "print(n_upload_confidence)"
   ]
  },
  {
   "cell_type": "markdown",
   "metadata": {},
   "source": [
    "### 2 - Comparando Medidores"
   ]
  },
  {
   "cell_type": "markdown",
   "metadata": {},
   "source": [
    "Método de Medição: Medição realizada via Wifi, uma vez que meus disposivos não possuem conectividade ethernet\n",
    "\n",
    "Plano contratado: VERO - 680MB\n",
    "\n",
    "Medidores Utilizados: [Fast](https://fast.com/pt/#), [N Perf](https://www.nperf.com/pt/)\n"
   ]
  },
  {
   "cell_type": "markdown",
   "metadata": {},
   "source": [
    "#### Medidor Fast"
   ]
  },
  {
   "cell_type": "code",
   "execution_count": null,
   "metadata": {},
   "outputs": [],
   "source": [
    "fast_download_mean, fast_download_median, fast_download_std = calc_metrics(idle, 'fast_download')\n",
    "\n",
    "print(f'Média de Download: {fast_download_mean}')\n",
    "print(f'Mediana de Download: {fast_download_median}')\n",
    "print(f'Desvio Padrão: {fast_download_std}\\n')\n",
    "\n",
    "fast_upload_mean, fast_upload_median, fast_upload_std = calc_metrics(idle, 'fast_upload')\n",
    "\n",
    "print(f'Média de Upload: {fast_upload_mean}')\n",
    "print(f'Mediana de Upload: {fast_upload_median}')\n",
    "print(f'Desvio Padrão: {fast_upload_std}')\n",
    "\n"
   ]
  },
  {
   "cell_type": "markdown",
   "metadata": {},
   "source": [
    "#### Medidor nPerf\n"
   ]
  },
  {
   "cell_type": "code",
   "execution_count": null,
   "metadata": {},
   "outputs": [],
   "source": [
    "nperf_download_mean, nperf_download_median, nperf_download_std = calc_metrics(\n",
    "    idle, 'nperf_download')\n",
    "\n",
    "print(f'Média de Download: {nperf_download_mean}')\n",
    "print(f'Mediana de Download: {nperf_download_median}')\n",
    "print(f'Desvio Padrão: {nperf_download_std}\\n')\n",
    "\n",
    "nperf_upload_mean, nperf_upload_median, nperf_upload_std = calc_metrics(\n",
    "    idle, 'nperf_upload')\n",
    "\n",
    "print(f'Média de Upload: {nperf_upload_mean}')\n",
    "print(f'Mediana de Upload: {nperf_upload_median}')\n",
    "print(f'Desvio Padrão: {nperf_upload_std}')\n"
   ]
  },
  {
   "cell_type": "code",
   "execution_count": null,
   "metadata": {},
   "outputs": [],
   "source": [
    "n = len(idle['fast_download'])\n",
    "confidence = .95"
   ]
  },
  {
   "cell_type": "code",
   "execution_count": null,
   "metadata": {},
   "outputs": [],
   "source": [
    "ax = idle[['fast_download', 'nperf_download']].plot()\n",
    "ax.set_xlabel(\"Intervalos de Medida\")\n",
    "ax.set_ylabel(\"Velocidade\")\n",
    "plt.show()"
   ]
  },
  {
   "cell_type": "code",
   "execution_count": null,
   "metadata": {},
   "outputs": [],
   "source": [
    "ax = idle[['fast_upload', 'nperf_upload']].plot()\n",
    "ax.set_xlabel(\"Intervalos de Medida\")\n",
    "ax.set_ylabel(\"Velocidade\")\n",
    "plt.show()"
   ]
  },
  {
   "cell_type": "markdown",
   "metadata": {},
   "source": [
    "$$H0: Download\\;Fast = Download\\;NPerf$$\n",
    "$$H1: Download\\;Fast > Download\\;NPerf$$"
   ]
  },
  {
   "cell_type": "code",
   "execution_count": null,
   "metadata": {},
   "outputs": [],
   "source": [
    "v = calc_v_t_student(fast_download_std, nperf_download_std, n)\n",
    "print(f't{round(1-confidence,3)}; {v}')"
   ]
  },
  {
   "cell_type": "markdown",
   "metadata": {},
   "source": [
    "Buscamos o valor acima na tabela T-Student e dela retiramos 1.729.\n",
    "\n",
    "Calculando o intervalo de confiança unilateral obtemos:"
   ]
  },
  {
   "cell_type": "code",
   "execution_count": null,
   "metadata": {},
   "outputs": [],
   "source": [
    "download_comp_interval = calc_confidence_interval_comp(\n",
    "    1.729, fast_download_mean, nperf_download_mean, nperf_download_std, fast_download_std, n)\n",
    "print(download_comp_interval)\n"
   ]
  },
  {
   "cell_type": "markdown",
   "metadata": {},
   "source": [
    "Análise:\n",
    "\n",
    "\n",
    "---"
   ]
  },
  {
   "cell_type": "markdown",
   "metadata": {},
   "source": [
    "$$H0: Upload\\;NPerf = Upload\\;Fast$$\n",
    "$$H1: Upload\\;NPerf > Upload\\;Fast$$"
   ]
  },
  {
   "cell_type": "code",
   "execution_count": null,
   "metadata": {},
   "outputs": [],
   "source": [
    "v = calc_v_t_student(nperf_upload_std, fast_upload_std, n)\n",
    "print(f't{round(1-confidence,3)}; {v}')\n"
   ]
  },
  {
   "cell_type": "markdown",
   "metadata": {},
   "source": [
    "Buscamos o valor acima na tabela T-Student e dela retiramos 1.721.\n",
    "\n",
    "Calculando o intervalo de confiança unilateral obtemos:"
   ]
  },
  {
   "cell_type": "code",
   "execution_count": null,
   "metadata": {},
   "outputs": [],
   "source": [
    "download_comp_interval = calc_confidence_interval_comp(\n",
    "    1.721, nperf_upload_mean, fast_upload_mean, nperf_upload_std, fast_upload_std, n)\n",
    "print(download_comp_interval)\n"
   ]
  },
  {
   "cell_type": "markdown",
   "metadata": {},
   "source": [
    "Análise:"
   ]
  },
  {
   "cell_type": "markdown",
   "metadata": {},
   "source": [
    "### 3 - Comparando Situações"
   ]
  },
  {
   "cell_type": "code",
   "execution_count": null,
   "metadata": {},
   "outputs": [],
   "source": [
    "idle = pd.read_csv('./data/erick/parado.csv')\n",
    "video = pd.read_csv('./data/erick/video.csv')\n",
    "stress = pd.read_csv('./data/erick/estresse.csv')\n",
    "\n",
    "print('Parado')\n",
    "display(idle)\n",
    "\n",
    "print('Assistindo YouTube')\n",
    "display(video)\n",
    "\n",
    "print('Fazendo Download da ISO do W11')\n",
    "display(stress)"
   ]
  },
  {
   "cell_type": "code",
   "execution_count": null,
   "metadata": {},
   "outputs": [],
   "source": []
  },
  {
   "cell_type": "markdown",
   "metadata": {},
   "source": [
    "### 4 - Comparando Provedores"
   ]
  },
  {
   "cell_type": "code",
   "execution_count": null,
   "metadata": {},
   "outputs": [],
   "source": [
    "erick_idle = pd.read_csv('./data/erick/parado.csv')\n",
    "carlos_idle = pd.read_csv('./data/carlos/parado.csv')\n",
    "\n",
    "print('Erick | VERO - Parado')\n",
    "display(idle)\n",
    "\n",
    "print('Carlos | PROVEDOR - Parado')\n",
    "display(carlos_idle)"
   ]
  },
  {
   "cell_type": "code",
   "execution_count": null,
   "metadata": {},
   "outputs": [],
   "source": []
  },
  {
   "cell_type": "markdown",
   "metadata": {},
   "source": [
    "### 5 - Comparação Multipla"
   ]
  },
  {
   "cell_type": "code",
   "execution_count": null,
   "metadata": {},
   "outputs": [],
   "source": []
  },
  {
   "cell_type": "markdown",
   "metadata": {},
   "source": []
  }
 ],
 "metadata": {
  "kernelspec": {
   "display_name": "Python 3.8.10 64-bit",
   "language": "python",
   "name": "python3"
  },
  "language_info": {
   "codemirror_mode": {
    "name": "ipython",
    "version": 3
   },
   "file_extension": ".py",
   "mimetype": "text/x-python",
   "name": "python",
   "nbconvert_exporter": "python",
   "pygments_lexer": "ipython3",
   "version": "3.8.10"
  },
  "orig_nbformat": 4,
  "vscode": {
   "interpreter": {
    "hash": "916dbcbb3f70747c44a77c7bcd40155683ae19c65e1c03b4aa3499c5328201f1"
   }
  }
 },
 "nbformat": 4,
 "nbformat_minor": 2
}
