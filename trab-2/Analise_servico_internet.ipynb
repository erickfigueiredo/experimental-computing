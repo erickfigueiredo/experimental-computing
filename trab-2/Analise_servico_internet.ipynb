{
 "cells": [
  {
   "cell_type": "markdown",
   "metadata": {},
   "source": [
    "### Bibliotecas e Funções"
   ]
  },
  {
   "cell_type": "code",
   "execution_count": 2,
   "metadata": {},
   "outputs": [],
   "source": [
    "import pandas as pd\n",
    "from scipy import stats\n",
    "from math import sqrt, ceil\n",
    "import matplotlib.pyplot as plt\n",
    "\n"
   ]
  },
  {
   "cell_type": "code",
   "execution_count": 3,
   "metadata": {},
   "outputs": [],
   "source": [
    "def calc_metrics(df, column):\n",
    "    return df[column].mean(), df[column].median(), df[column].std()"
   ]
  },
  {
   "cell_type": "code",
   "execution_count": 4,
   "metadata": {},
   "outputs": [],
   "source": [
    "def calc_confidence_interval(t_student_value, mean, std, n ):\n",
    "    lower = mean - (t_student_value) * (std)/sqrt(n)\n",
    "    upper = mean + (t_student_value) * (std)/sqrt(n)\n",
    "    \n",
    "    return (lower, upper)\n"
   ]
  },
  {
   "cell_type": "code",
   "execution_count": 5,
   "metadata": {},
   "outputs": [],
   "source": [
    "def calc_non_normal_confidence_interval(df, column, mean, confidence, n):\n",
    "    se = stats.sem(df[column])\n",
    "    h = se * stats.t._ppf((1+confidence)/2., n-1)\n",
    "    \n",
    "    return (mean - h, mean + h)\n"
   ]
  },
  {
   "cell_type": "code",
   "execution_count": 6,
   "metadata": {},
   "outputs": [],
   "source": [
    "def calc_v_t_student(std1, std2, n1, n2=None):\n",
    "    n2 = n1 if n2 is None else n2\n",
    "\n",
    "    f1 = std1**2/n1\n",
    "    f2 = std2**2/n2\n",
    "\n",
    "    return ceil((f1+f2)**2/((f1**2/(n1-1))+(f2**2/(n2-1))))\n"
   ]
  },
  {
   "cell_type": "code",
   "execution_count": 7,
   "metadata": {},
   "outputs": [],
   "source": [
    "def calc_confidence_interval_comp(t_student_value, mean1, mean2, std1, std2, n1, n2=None):\n",
    "    n2 = n1 if n2 is None else n2\n",
    "\n",
    "    f1 = std1**2/n1\n",
    "    f2 = std2**2/n2\n",
    "\n",
    "    lower = mean1 - mean2 - t_student_value * sqrt(f1 + f2)\n",
    "    upper = mean1 - mean2 + t_student_value * sqrt(f1 + f2)\n",
    "\n",
    "    return (lower, upper)\n"
   ]
  },
  {
   "cell_type": "markdown",
   "metadata": {},
   "source": [
    "### 1 - Medidas de Velocidade"
   ]
  },
  {
   "cell_type": "markdown",
   "metadata": {},
   "source": [
    "Método de Medição: Medição realizada via Wifi, uma vez que meus disposivos não possuem conectividade ethernet\n",
    "\n",
    "Plano contratado: VERO - 680MB\n",
    "\n",
    "Medidor Utilizado: [Speed Test](https://www.speedtest.net/)\n"
   ]
  },
  {
   "cell_type": "code",
   "execution_count": 8,
   "metadata": {},
   "outputs": [
    {
     "data": {
      "text/html": [
       "<div>\n",
       "<style scoped>\n",
       "    .dataframe tbody tr th:only-of-type {\n",
       "        vertical-align: middle;\n",
       "    }\n",
       "\n",
       "    .dataframe tbody tr th {\n",
       "        vertical-align: top;\n",
       "    }\n",
       "\n",
       "    .dataframe thead th {\n",
       "        text-align: right;\n",
       "    }\n",
       "</style>\n",
       "<table border=\"1\" class=\"dataframe\">\n",
       "  <thead>\n",
       "    <tr style=\"text-align: right;\">\n",
       "      <th></th>\n",
       "      <th>fast_download</th>\n",
       "      <th>fast_upload</th>\n",
       "      <th>speed_download</th>\n",
       "      <th>speed_upload</th>\n",
       "      <th>nperf_download</th>\n",
       "      <th>nperf_upload</th>\n",
       "    </tr>\n",
       "  </thead>\n",
       "  <tbody>\n",
       "    <tr>\n",
       "      <th>0</th>\n",
       "      <td>300</td>\n",
       "      <td>180</td>\n",
       "      <td>356.39</td>\n",
       "      <td>259.18</td>\n",
       "      <td>309.9</td>\n",
       "      <td>267.3</td>\n",
       "    </tr>\n",
       "    <tr>\n",
       "      <th>1</th>\n",
       "      <td>380</td>\n",
       "      <td>200</td>\n",
       "      <td>400.94</td>\n",
       "      <td>264.61</td>\n",
       "      <td>247.3</td>\n",
       "      <td>318.2</td>\n",
       "    </tr>\n",
       "    <tr>\n",
       "      <th>2</th>\n",
       "      <td>270</td>\n",
       "      <td>190</td>\n",
       "      <td>315.58</td>\n",
       "      <td>136.24</td>\n",
       "      <td>263.6</td>\n",
       "      <td>250.5</td>\n",
       "    </tr>\n",
       "    <tr>\n",
       "      <th>3</th>\n",
       "      <td>340</td>\n",
       "      <td>230</td>\n",
       "      <td>438.23</td>\n",
       "      <td>278.65</td>\n",
       "      <td>165.4</td>\n",
       "      <td>255.3</td>\n",
       "    </tr>\n",
       "    <tr>\n",
       "      <th>4</th>\n",
       "      <td>390</td>\n",
       "      <td>190</td>\n",
       "      <td>345.79</td>\n",
       "      <td>110.13</td>\n",
       "      <td>316.3</td>\n",
       "      <td>234.2</td>\n",
       "    </tr>\n",
       "    <tr>\n",
       "      <th>5</th>\n",
       "      <td>280</td>\n",
       "      <td>350</td>\n",
       "      <td>153.78</td>\n",
       "      <td>13.95</td>\n",
       "      <td>267.7</td>\n",
       "      <td>260.0</td>\n",
       "    </tr>\n",
       "    <tr>\n",
       "      <th>6</th>\n",
       "      <td>220</td>\n",
       "      <td>190</td>\n",
       "      <td>290.00</td>\n",
       "      <td>92.29</td>\n",
       "      <td>266.5</td>\n",
       "      <td>325.7</td>\n",
       "    </tr>\n",
       "    <tr>\n",
       "      <th>7</th>\n",
       "      <td>200</td>\n",
       "      <td>58</td>\n",
       "      <td>239.46</td>\n",
       "      <td>201.45</td>\n",
       "      <td>272.9</td>\n",
       "      <td>312.3</td>\n",
       "    </tr>\n",
       "    <tr>\n",
       "      <th>8</th>\n",
       "      <td>470</td>\n",
       "      <td>150</td>\n",
       "      <td>259.68</td>\n",
       "      <td>120.12</td>\n",
       "      <td>267.6</td>\n",
       "      <td>323.9</td>\n",
       "    </tr>\n",
       "    <tr>\n",
       "      <th>9</th>\n",
       "      <td>140</td>\n",
       "      <td>120</td>\n",
       "      <td>297.27</td>\n",
       "      <td>185.83</td>\n",
       "      <td>256.6</td>\n",
       "      <td>325.8</td>\n",
       "    </tr>\n",
       "    <tr>\n",
       "      <th>10</th>\n",
       "      <td>300</td>\n",
       "      <td>120</td>\n",
       "      <td>49.88</td>\n",
       "      <td>212.88</td>\n",
       "      <td>268.6</td>\n",
       "      <td>252.2</td>\n",
       "    </tr>\n",
       "    <tr>\n",
       "      <th>11</th>\n",
       "      <td>150</td>\n",
       "      <td>200</td>\n",
       "      <td>219.06</td>\n",
       "      <td>59.71</td>\n",
       "      <td>220.5</td>\n",
       "      <td>258.1</td>\n",
       "    </tr>\n",
       "    <tr>\n",
       "      <th>12</th>\n",
       "      <td>220</td>\n",
       "      <td>78</td>\n",
       "      <td>234.42</td>\n",
       "      <td>217.56</td>\n",
       "      <td>232.1</td>\n",
       "      <td>314.5</td>\n",
       "    </tr>\n",
       "    <tr>\n",
       "      <th>13</th>\n",
       "      <td>230</td>\n",
       "      <td>90</td>\n",
       "      <td>379.39</td>\n",
       "      <td>67.68</td>\n",
       "      <td>245.5</td>\n",
       "      <td>322.9</td>\n",
       "    </tr>\n",
       "    <tr>\n",
       "      <th>14</th>\n",
       "      <td>170</td>\n",
       "      <td>140</td>\n",
       "      <td>317.11</td>\n",
       "      <td>119.67</td>\n",
       "      <td>204.4</td>\n",
       "      <td>240.9</td>\n",
       "    </tr>\n",
       "  </tbody>\n",
       "</table>\n",
       "</div>"
      ],
      "text/plain": [
       "    fast_download  fast_upload  speed_download  speed_upload  nperf_download  \\\n",
       "0             300          180          356.39        259.18           309.9   \n",
       "1             380          200          400.94        264.61           247.3   \n",
       "2             270          190          315.58        136.24           263.6   \n",
       "3             340          230          438.23        278.65           165.4   \n",
       "4             390          190          345.79        110.13           316.3   \n",
       "5             280          350          153.78         13.95           267.7   \n",
       "6             220          190          290.00         92.29           266.5   \n",
       "7             200           58          239.46        201.45           272.9   \n",
       "8             470          150          259.68        120.12           267.6   \n",
       "9             140          120          297.27        185.83           256.6   \n",
       "10            300          120           49.88        212.88           268.6   \n",
       "11            150          200          219.06         59.71           220.5   \n",
       "12            220           78          234.42        217.56           232.1   \n",
       "13            230           90          379.39         67.68           245.5   \n",
       "14            170          140          317.11        119.67           204.4   \n",
       "\n",
       "    nperf_upload  \n",
       "0          267.3  \n",
       "1          318.2  \n",
       "2          250.5  \n",
       "3          255.3  \n",
       "4          234.2  \n",
       "5          260.0  \n",
       "6          325.7  \n",
       "7          312.3  \n",
       "8          323.9  \n",
       "9          325.8  \n",
       "10         252.2  \n",
       "11         258.1  \n",
       "12         314.5  \n",
       "13         322.9  \n",
       "14         240.9  "
      ]
     },
     "execution_count": 8,
     "metadata": {},
     "output_type": "execute_result"
    }
   ],
   "source": [
    "idle = pd.read_csv('./data/erick/parado.csv')\n",
    "idle"
   ]
  },
  {
   "cell_type": "code",
   "execution_count": 9,
   "metadata": {},
   "outputs": [
    {
     "data": {
      "image/png": "[encoded data removed]",
      "text/plain": [
       "<Figure size 640x480 with 1 Axes>"
      ]
     },
     "metadata": {},
     "output_type": "display_data"
    }
   ],
   "source": [
    "ax = idle[['speed_download', 'speed_upload']].plot()\n",
    "ax.set_xlabel(\"Intervalos de Medida\")\n",
    "ax.set_ylabel(\"Velocidade\")\n",
    "plt.show()\n"
   ]
  },
  {
   "cell_type": "code",
   "execution_count": 10,
   "metadata": {},
   "outputs": [
    {
     "name": "stdout",
     "output_type": "stream",
     "text": [
      "Média de Download: 286.4653333333333\n",
      "Mediana de Download: 297.27\n",
      "Desvio Padrão: 99.58987146339351\n"
     ]
    }
   ],
   "source": [
    "download_mean, download_median, download_std = calc_metrics(idle, 'speed_download')\n",
    "\n",
    "print(f'Média de Download: {download_mean}')\n",
    "print(f'Mediana de Download: {download_median}')\n",
    "print(f'Desvio Padrão: {download_std}')\n"
   ]
  },
  {
   "cell_type": "code",
   "execution_count": 11,
   "metadata": {},
   "outputs": [
    {
     "name": "stdout",
     "output_type": "stream",
     "text": [
      "Média de Upload: 155.99666666666664\n",
      "Mediana de Upload: 136.24\n",
      "Desvio Padrão: 81.88706383678391\n"
     ]
    }
   ],
   "source": [
    "upload_mean, upload_median, upload_std = calc_metrics(idle, 'speed_upload')\n",
    "\n",
    "print(f'Média de Upload: {upload_mean}')\n",
    "print(f'Mediana de Upload: {upload_median}')\n",
    "print(f'Desvio Padrão: {upload_std}')"
   ]
  },
  {
   "cell_type": "markdown",
   "metadata": {},
   "source": [
    "##### Considerando Distribuição Normal"
   ]
  },
  {
   "cell_type": "markdown",
   "metadata": {},
   "source": [
    "Para o cálculo da média populacional vamos empregar o caso 4, presente nos slides:\n",
    "\n",
    "Intervalo de confiança para a média populacional µ de uma distribuição normal com a variância populacional σ² desconhecida e amostra pequena:"
   ]
  },
  {
   "cell_type": "code",
   "execution_count": 12,
   "metadata": {},
   "outputs": [
    {
     "name": "stdout",
     "output_type": "stream",
     "text": [
      "t0.025; 14\n"
     ]
    }
   ],
   "source": [
    "confidence = .95\n",
    "alpha = 1 - confidence\n",
    "\n",
    "n = len(idle[\"speed_download\"])\n",
    "print(f't{round(alpha/2,3)}; {n-1}')"
   ]
  },
  {
   "cell_type": "markdown",
   "metadata": {},
   "source": [
    "Buscamos o valor acima na tabela T-Student e dela retiramos 2.145"
   ]
  },
  {
   "cell_type": "code",
   "execution_count": 13,
   "metadata": {},
   "outputs": [
    {
     "name": "stdout",
     "output_type": "stream",
     "text": [
      "(231.3088156844349, 341.62185098223176)\n"
     ]
    }
   ],
   "source": [
    "download_confidence = calc_confidence_interval(2.145, download_mean, download_std, n)\n",
    "\n",
    "print(download_confidence)"
   ]
  },
  {
   "cell_type": "code",
   "execution_count": 14,
   "metadata": {},
   "outputs": [
    {
     "name": "stdout",
     "output_type": "stream",
     "text": [
      "(110.6446121317813, 201.348721201552)\n"
     ]
    }
   ],
   "source": [
    "upload_confidence = calc_confidence_interval(2.145, upload_mean, upload_std, n)\n",
    "\n",
    "print(upload_confidence)"
   ]
  },
  {
   "cell_type": "markdown",
   "metadata": {},
   "source": [
    "##### Sem Considerar Distribuição Normal"
   ]
  },
  {
   "cell_type": "code",
   "execution_count": 15,
   "metadata": {},
   "outputs": [
    {
     "name": "stdout",
     "output_type": "stream",
     "text": [
      "(231.31430079011076, 341.6163658765559)\n"
     ]
    }
   ],
   "source": [
    "n_download_confidence = calc_non_normal_confidence_interval(idle, 'speed_download', download_mean, confidence, n)\n",
    "\n",
    "print(n_download_confidence)"
   ]
  },
  {
   "cell_type": "code",
   "execution_count": 16,
   "metadata": {},
   "outputs": [
    {
     "name": "stdout",
     "output_type": "stream",
     "text": [
      "(110.64912222093024, 201.34421111240306)\n"
     ]
    }
   ],
   "source": [
    "n_upload_confidence = calc_non_normal_confidence_interval(idle, 'speed_upload', upload_mean, confidence, n)\n",
    "\n",
    "print(n_upload_confidence)"
   ]
  },
  {
   "cell_type": "markdown",
   "metadata": {},
   "source": [
    "### 2 - Comparando Medidores"
   ]
  },
  {
   "cell_type": "markdown",
   "metadata": {},
   "source": [
    "Método de Medição: Medição realizada via Wifi, uma vez que meus disposivos não possuem conectividade ethernet\n",
    "\n",
    "Plano contratado: VERO - 680MB\n",
    "\n",
    "Medidores Utilizados: [Fast](https://fast.com/pt/#), [N Perf](https://www.nperf.com/pt/)\n"
   ]
  },
  {
   "cell_type": "markdown",
   "metadata": {},
   "source": [
    "#### Medidor Fast"
   ]
  },
  {
   "cell_type": "code",
   "execution_count": 17,
   "metadata": {},
   "outputs": [
    {
     "name": "stdout",
     "output_type": "stream",
     "text": [
      "Média de Download: 270.6666666666667\n",
      "Mediana de Download: 270.0\n",
      "Desvio Padrão: 94.90345971916234\n",
      "\n",
      "Média de Upload: 165.73333333333332\n",
      "Mediana de Upload: 180.0\n",
      "Desvio Padrão: 71.97962674720304\n"
     ]
    }
   ],
   "source": [
    "fast_download_mean, fast_download_median, fast_download_std = calc_metrics(idle, 'fast_download')\n",
    "\n",
    "print(f'Média de Download: {fast_download_mean}')\n",
    "print(f'Mediana de Download: {fast_download_median}')\n",
    "print(f'Desvio Padrão: {fast_download_std}\\n')\n",
    "\n",
    "fast_upload_mean, fast_upload_median, fast_upload_std = calc_metrics(idle, 'fast_upload')\n",
    "\n",
    "print(f'Média de Upload: {fast_upload_mean}')\n",
    "print(f'Mediana de Upload: {fast_upload_median}')\n",
    "print(f'Desvio Padrão: {fast_upload_std}')\n",
    "\n"
   ]
  },
  {
   "cell_type": "markdown",
   "metadata": {},
   "source": [
    "#### Medidor nPerf\n"
   ]
  },
  {
   "cell_type": "code",
   "execution_count": 18,
   "metadata": {},
   "outputs": [
    {
     "name": "stdout",
     "output_type": "stream",
     "text": [
      "Média de Download: 253.66\n",
      "Mediana de Download: 263.6\n",
      "Desvio Padrão: 38.01473022771192\n",
      "\n",
      "Média de Upload: 284.12\n",
      "Mediana de Upload: 267.3\n",
      "Desvio Padrão: 36.16672108839443\n"
     ]
    }
   ],
   "source": [
    "nperf_download_mean, nperf_download_median, nperf_download_std = calc_metrics(\n",
    "    idle, 'nperf_download')\n",
    "\n",
    "print(f'Média de Download: {nperf_download_mean}')\n",
    "print(f'Mediana de Download: {nperf_download_median}')\n",
    "print(f'Desvio Padrão: {nperf_download_std}\\n')\n",
    "\n",
    "nperf_upload_mean, nperf_upload_median, nperf_upload_std = calc_metrics(\n",
    "    idle, 'nperf_upload')\n",
    "\n",
    "print(f'Média de Upload: {nperf_upload_mean}')\n",
    "print(f'Mediana de Upload: {nperf_upload_median}')\n",
    "print(f'Desvio Padrão: {nperf_upload_std}')\n"
   ]
  },
  {
   "cell_type": "code",
   "execution_count": 19,
   "metadata": {},
   "outputs": [],
   "source": [
    "n = len(idle['fast_download'])\n",
    "confidence = .95"
   ]
  },
  {
   "cell_type": "code",
   "execution_count": 20,
   "metadata": {},
   "outputs": [
    {
     "data": {
      "image/png": "[encoded data removed]",
      "text/plain": [
       "<Figure size 640x480 with 1 Axes>"
      ]
     },
     "metadata": {},
     "output_type": "display_data"
    }
   ],
   "source": [
    "ax = idle[['fast_download', 'nperf_download']].plot()\n",
    "ax.set_xlabel(\"Intervalos de Medida\")\n",
    "ax.set_ylabel(\"Velocidade\")\n",
    "plt.show()"
   ]
  },
  {
   "cell_type": "code",
   "execution_count": 21,
   "metadata": {},
   "outputs": [
    {
     "data": {
      "image/png": "[encoded data removed]",
      "text/plain": [
       "<Figure size 640x480 with 1 Axes>"
      ]
     },
     "metadata": {},
     "output_type": "display_data"
    }
   ],
   "source": [
    "ax = idle[['fast_upload', 'nperf_upload']].plot()\n",
    "ax.set_xlabel(\"Intervalos de Medida\")\n",
    "ax.set_ylabel(\"Velocidade\")\n",
    "plt.show()"
   ]
  },
  {
   "cell_type": "markdown",
   "metadata": {},
   "source": [
    "$$H0: Download\\;Fast = Download\\;NPerf$$\n",
    "$$H1: Download\\;Fast > Download\\;NPerf$$"
   ]
  },
  {
   "cell_type": "code",
   "execution_count": 22,
   "metadata": {},
   "outputs": [
    {
     "name": "stdout",
     "output_type": "stream",
     "text": [
      "t0.05; 19\n"
     ]
    }
   ],
   "source": [
    "v = calc_v_t_student(fast_download_std, nperf_download_std, n)\n",
    "print(f't{round(1-confidence,3)}; {v}')"
   ]
  },
  {
   "cell_type": "markdown",
   "metadata": {},
   "source": [
    "Buscamos o valor acima na tabela T-Student e dela retiramos 1.729.\n",
    "\n",
    "Calculando o intervalo de confiança unilateral obtemos:"
   ]
  },
  {
   "cell_type": "code",
   "execution_count": 23,
   "metadata": {},
   "outputs": [
    {
     "name": "stdout",
     "output_type": "stream",
     "text": [
      "(-28.633227235094793, 62.64656056842817)\n"
     ]
    }
   ],
   "source": [
    "download_comp_interval = calc_confidence_interval_comp(\n",
    "    1.729, fast_download_mean, nperf_download_mean, nperf_download_std, fast_download_std, n)\n",
    "print(download_comp_interval)\n"
   ]
  },
  {
   "cell_type": "markdown",
   "metadata": {},
   "source": [
    "\n",
    "---"
   ]
  },
  {
   "cell_type": "markdown",
   "metadata": {},
   "source": [
    "$$H0: Upload\\;NPerf = Upload\\;Fast$$\n",
    "$$H1: Upload\\;NPerf > Upload\\;Fast$$"
   ]
  },
  {
   "cell_type": "code",
   "execution_count": 24,
   "metadata": {},
   "outputs": [
    {
     "name": "stdout",
     "output_type": "stream",
     "text": [
      "t0.05; 21\n"
     ]
    }
   ],
   "source": [
    "v = calc_v_t_student(nperf_upload_std, fast_upload_std, n)\n",
    "print(f't{round(1-confidence,3)}; {v}')\n"
   ]
  },
  {
   "cell_type": "markdown",
   "metadata": {},
   "source": [
    "Buscamos o valor acima na tabela T-Student e dela retiramos 1.721.\n",
    "\n",
    "Calculando o intervalo de confiança unilateral obtemos:"
   ]
  },
  {
   "cell_type": "code",
   "execution_count": 25,
   "metadata": {},
   "outputs": [
    {
     "name": "stdout",
     "output_type": "stream",
     "text": [
      "(82.59125016516622, 154.18208316816714)\n"
     ]
    }
   ],
   "source": [
    "download_comp_interval = calc_confidence_interval_comp(\n",
    "    1.721, nperf_upload_mean, fast_upload_mean, nperf_upload_std, fast_upload_std, n)\n",
    "print(download_comp_interval)\n"
   ]
  },
  {
   "cell_type": "markdown",
   "metadata": {},
   "source": [
    "### 3 - Comparando Situações"
   ]
  },
  {
   "cell_type": "code",
   "execution_count": 26,
   "metadata": {},
   "outputs": [
    {
     "name": "stdout",
     "output_type": "stream",
     "text": [
      "Parado\n"
     ]
    },
    {
     "data": {
      "text/html": [
       "<div>\n",
       "<style scoped>\n",
       "    .dataframe tbody tr th:only-of-type {\n",
       "        vertical-align: middle;\n",
       "    }\n",
       "\n",
       "    .dataframe tbody tr th {\n",
       "        vertical-align: top;\n",
       "    }\n",
       "\n",
       "    .dataframe thead th {\n",
       "        text-align: right;\n",
       "    }\n",
       "</style>\n",
       "<table border=\"1\" class=\"dataframe\">\n",
       "  <thead>\n",
       "    <tr style=\"text-align: right;\">\n",
       "      <th></th>\n",
       "      <th>fast_download</th>\n",
       "      <th>fast_upload</th>\n",
       "      <th>speed_download</th>\n",
       "      <th>speed_upload</th>\n",
       "      <th>nperf_download</th>\n",
       "      <th>nperf_upload</th>\n",
       "    </tr>\n",
       "  </thead>\n",
       "  <tbody>\n",
       "    <tr>\n",
       "      <th>0</th>\n",
       "      <td>300</td>\n",
       "      <td>180</td>\n",
       "      <td>356.39</td>\n",
       "      <td>259.18</td>\n",
       "      <td>309.9</td>\n",
       "      <td>267.3</td>\n",
       "    </tr>\n",
       "    <tr>\n",
       "      <th>1</th>\n",
       "      <td>380</td>\n",
       "      <td>200</td>\n",
       "      <td>400.94</td>\n",
       "      <td>264.61</td>\n",
       "      <td>247.3</td>\n",
       "      <td>318.2</td>\n",
       "    </tr>\n",
       "    <tr>\n",
       "      <th>2</th>\n",
       "      <td>270</td>\n",
       "      <td>190</td>\n",
       "      <td>315.58</td>\n",
       "      <td>136.24</td>\n",
       "      <td>263.6</td>\n",
       "      <td>250.5</td>\n",
       "    </tr>\n",
       "    <tr>\n",
       "      <th>3</th>\n",
       "      <td>340</td>\n",
       "      <td>230</td>\n",
       "      <td>438.23</td>\n",
       "      <td>278.65</td>\n",
       "      <td>165.4</td>\n",
       "      <td>255.3</td>\n",
       "    </tr>\n",
       "    <tr>\n",
       "      <th>4</th>\n",
       "      <td>390</td>\n",
       "      <td>190</td>\n",
       "      <td>345.79</td>\n",
       "      <td>110.13</td>\n",
       "      <td>316.3</td>\n",
       "      <td>234.2</td>\n",
       "    </tr>\n",
       "    <tr>\n",
       "      <th>5</th>\n",
       "      <td>280</td>\n",
       "      <td>350</td>\n",
       "      <td>153.78</td>\n",
       "      <td>13.95</td>\n",
       "      <td>267.7</td>\n",
       "      <td>260.0</td>\n",
       "    </tr>\n",
       "    <tr>\n",
       "      <th>6</th>\n",
       "      <td>220</td>\n",
       "      <td>190</td>\n",
       "      <td>290.00</td>\n",
       "      <td>92.29</td>\n",
       "      <td>266.5</td>\n",
       "      <td>325.7</td>\n",
       "    </tr>\n",
       "    <tr>\n",
       "      <th>7</th>\n",
       "      <td>200</td>\n",
       "      <td>58</td>\n",
       "      <td>239.46</td>\n",
       "      <td>201.45</td>\n",
       "      <td>272.9</td>\n",
       "      <td>312.3</td>\n",
       "    </tr>\n",
       "    <tr>\n",
       "      <th>8</th>\n",
       "      <td>470</td>\n",
       "      <td>150</td>\n",
       "      <td>259.68</td>\n",
       "      <td>120.12</td>\n",
       "      <td>267.6</td>\n",
       "      <td>323.9</td>\n",
       "    </tr>\n",
       "    <tr>\n",
       "      <th>9</th>\n",
       "      <td>140</td>\n",
       "      <td>120</td>\n",
       "      <td>297.27</td>\n",
       "      <td>185.83</td>\n",
       "      <td>256.6</td>\n",
       "      <td>325.8</td>\n",
       "    </tr>\n",
       "    <tr>\n",
       "      <th>10</th>\n",
       "      <td>300</td>\n",
       "      <td>120</td>\n",
       "      <td>49.88</td>\n",
       "      <td>212.88</td>\n",
       "      <td>268.6</td>\n",
       "      <td>252.2</td>\n",
       "    </tr>\n",
       "    <tr>\n",
       "      <th>11</th>\n",
       "      <td>150</td>\n",
       "      <td>200</td>\n",
       "      <td>219.06</td>\n",
       "      <td>59.71</td>\n",
       "      <td>220.5</td>\n",
       "      <td>258.1</td>\n",
       "    </tr>\n",
       "    <tr>\n",
       "      <th>12</th>\n",
       "      <td>220</td>\n",
       "      <td>78</td>\n",
       "      <td>234.42</td>\n",
       "      <td>217.56</td>\n",
       "      <td>232.1</td>\n",
       "      <td>314.5</td>\n",
       "    </tr>\n",
       "    <tr>\n",
       "      <th>13</th>\n",
       "      <td>230</td>\n",
       "      <td>90</td>\n",
       "      <td>379.39</td>\n",
       "      <td>67.68</td>\n",
       "      <td>245.5</td>\n",
       "      <td>322.9</td>\n",
       "    </tr>\n",
       "    <tr>\n",
       "      <th>14</th>\n",
       "      <td>170</td>\n",
       "      <td>140</td>\n",
       "      <td>317.11</td>\n",
       "      <td>119.67</td>\n",
       "      <td>204.4</td>\n",
       "      <td>240.9</td>\n",
       "    </tr>\n",
       "  </tbody>\n",
       "</table>\n",
       "</div>"
      ],
      "text/plain": [
       "    fast_download  fast_upload  speed_download  speed_upload  nperf_download  \\\n",
       "0             300          180          356.39        259.18           309.9   \n",
       "1             380          200          400.94        264.61           247.3   \n",
       "2             270          190          315.58        136.24           263.6   \n",
       "3             340          230          438.23        278.65           165.4   \n",
       "4             390          190          345.79        110.13           316.3   \n",
       "5             280          350          153.78         13.95           267.7   \n",
       "6             220          190          290.00         92.29           266.5   \n",
       "7             200           58          239.46        201.45           272.9   \n",
       "8             470          150          259.68        120.12           267.6   \n",
       "9             140          120          297.27        185.83           256.6   \n",
       "10            300          120           49.88        212.88           268.6   \n",
       "11            150          200          219.06         59.71           220.5   \n",
       "12            220           78          234.42        217.56           232.1   \n",
       "13            230           90          379.39         67.68           245.5   \n",
       "14            170          140          317.11        119.67           204.4   \n",
       "\n",
       "    nperf_upload  \n",
       "0          267.3  \n",
       "1          318.2  \n",
       "2          250.5  \n",
       "3          255.3  \n",
       "4          234.2  \n",
       "5          260.0  \n",
       "6          325.7  \n",
       "7          312.3  \n",
       "8          323.9  \n",
       "9          325.8  \n",
       "10         252.2  \n",
       "11         258.1  \n",
       "12         314.5  \n",
       "13         322.9  \n",
       "14         240.9  "
      ]
     },
     "metadata": {},
     "output_type": "display_data"
    },
    {
     "name": "stdout",
     "output_type": "stream",
     "text": [
      "Assistindo YouTube\n"
     ]
    },
    {
     "data": {
      "text/html": [
       "<div>\n",
       "<style scoped>\n",
       "    .dataframe tbody tr th:only-of-type {\n",
       "        vertical-align: middle;\n",
       "    }\n",
       "\n",
       "    .dataframe tbody tr th {\n",
       "        vertical-align: top;\n",
       "    }\n",
       "\n",
       "    .dataframe thead th {\n",
       "        text-align: right;\n",
       "    }\n",
       "</style>\n",
       "<table border=\"1\" class=\"dataframe\">\n",
       "  <thead>\n",
       "    <tr style=\"text-align: right;\">\n",
       "      <th></th>\n",
       "      <th>fast_download</th>\n",
       "      <th>fast_upload</th>\n",
       "      <th>speed_download</th>\n",
       "      <th>speed_upload</th>\n",
       "    </tr>\n",
       "  </thead>\n",
       "  <tbody>\n",
       "    <tr>\n",
       "      <th>0</th>\n",
       "      <td>220</td>\n",
       "      <td>220</td>\n",
       "      <td>195.47</td>\n",
       "      <td>92.29</td>\n",
       "    </tr>\n",
       "    <tr>\n",
       "      <th>1</th>\n",
       "      <td>330</td>\n",
       "      <td>230</td>\n",
       "      <td>204.71</td>\n",
       "      <td>50.92</td>\n",
       "    </tr>\n",
       "    <tr>\n",
       "      <th>2</th>\n",
       "      <td>230</td>\n",
       "      <td>220</td>\n",
       "      <td>277.39</td>\n",
       "      <td>85.35</td>\n",
       "    </tr>\n",
       "    <tr>\n",
       "      <th>3</th>\n",
       "      <td>260</td>\n",
       "      <td>190</td>\n",
       "      <td>241.89</td>\n",
       "      <td>5.09</td>\n",
       "    </tr>\n",
       "    <tr>\n",
       "      <th>4</th>\n",
       "      <td>270</td>\n",
       "      <td>75</td>\n",
       "      <td>437.68</td>\n",
       "      <td>244.69</td>\n",
       "    </tr>\n",
       "    <tr>\n",
       "      <th>5</th>\n",
       "      <td>330</td>\n",
       "      <td>230</td>\n",
       "      <td>317.76</td>\n",
       "      <td>273.54</td>\n",
       "    </tr>\n",
       "    <tr>\n",
       "      <th>6</th>\n",
       "      <td>380</td>\n",
       "      <td>220</td>\n",
       "      <td>452.57</td>\n",
       "      <td>251.59</td>\n",
       "    </tr>\n",
       "    <tr>\n",
       "      <th>7</th>\n",
       "      <td>410</td>\n",
       "      <td>210</td>\n",
       "      <td>455.59</td>\n",
       "      <td>109.73</td>\n",
       "    </tr>\n",
       "    <tr>\n",
       "      <th>8</th>\n",
       "      <td>410</td>\n",
       "      <td>270</td>\n",
       "      <td>336.08</td>\n",
       "      <td>166.39</td>\n",
       "    </tr>\n",
       "    <tr>\n",
       "      <th>9</th>\n",
       "      <td>370</td>\n",
       "      <td>270</td>\n",
       "      <td>339.85</td>\n",
       "      <td>258.76</td>\n",
       "    </tr>\n",
       "    <tr>\n",
       "      <th>10</th>\n",
       "      <td>51</td>\n",
       "      <td>130</td>\n",
       "      <td>62.08</td>\n",
       "      <td>174.35</td>\n",
       "    </tr>\n",
       "    <tr>\n",
       "      <th>11</th>\n",
       "      <td>340</td>\n",
       "      <td>140</td>\n",
       "      <td>184.63</td>\n",
       "      <td>99.04</td>\n",
       "    </tr>\n",
       "    <tr>\n",
       "      <th>12</th>\n",
       "      <td>230</td>\n",
       "      <td>200</td>\n",
       "      <td>204.97</td>\n",
       "      <td>61.23</td>\n",
       "    </tr>\n",
       "    <tr>\n",
       "      <th>13</th>\n",
       "      <td>260</td>\n",
       "      <td>100</td>\n",
       "      <td>262.30</td>\n",
       "      <td>144.36</td>\n",
       "    </tr>\n",
       "    <tr>\n",
       "      <th>14</th>\n",
       "      <td>320</td>\n",
       "      <td>150</td>\n",
       "      <td>263.34</td>\n",
       "      <td>100.42</td>\n",
       "    </tr>\n",
       "  </tbody>\n",
       "</table>\n",
       "</div>"
      ],
      "text/plain": [
       "    fast_download  fast_upload  speed_download  speed_upload\n",
       "0             220          220          195.47         92.29\n",
       "1             330          230          204.71         50.92\n",
       "2             230          220          277.39         85.35\n",
       "3             260          190          241.89          5.09\n",
       "4             270           75          437.68        244.69\n",
       "5             330          230          317.76        273.54\n",
       "6             380          220          452.57        251.59\n",
       "7             410          210          455.59        109.73\n",
       "8             410          270          336.08        166.39\n",
       "9             370          270          339.85        258.76\n",
       "10             51          130           62.08        174.35\n",
       "11            340          140          184.63         99.04\n",
       "12            230          200          204.97         61.23\n",
       "13            260          100          262.30        144.36\n",
       "14            320          150          263.34        100.42"
      ]
     },
     "metadata": {},
     "output_type": "display_data"
    },
    {
     "name": "stdout",
     "output_type": "stream",
     "text": [
      "Fazendo Download da ISO do W11\n"
     ]
    },
    {
     "data": {
      "text/html": [
       "<div>\n",
       "<style scoped>\n",
       "    .dataframe tbody tr th:only-of-type {\n",
       "        vertical-align: middle;\n",
       "    }\n",
       "\n",
       "    .dataframe tbody tr th {\n",
       "        vertical-align: top;\n",
       "    }\n",
       "\n",
       "    .dataframe thead th {\n",
       "        text-align: right;\n",
       "    }\n",
       "</style>\n",
       "<table border=\"1\" class=\"dataframe\">\n",
       "  <thead>\n",
       "    <tr style=\"text-align: right;\">\n",
       "      <th></th>\n",
       "      <th>fast_download</th>\n",
       "      <th>fast_upload</th>\n",
       "      <th>speed_download</th>\n",
       "      <th>speed_upload</th>\n",
       "    </tr>\n",
       "  </thead>\n",
       "  <tbody>\n",
       "    <tr>\n",
       "      <th>0</th>\n",
       "      <td>390</td>\n",
       "      <td>250</td>\n",
       "      <td>356.39</td>\n",
       "      <td>259.18</td>\n",
       "    </tr>\n",
       "    <tr>\n",
       "      <th>1</th>\n",
       "      <td>380</td>\n",
       "      <td>200</td>\n",
       "      <td>400.94</td>\n",
       "      <td>264.61</td>\n",
       "    </tr>\n",
       "    <tr>\n",
       "      <th>2</th>\n",
       "      <td>270</td>\n",
       "      <td>190</td>\n",
       "      <td>315.58</td>\n",
       "      <td>136.24</td>\n",
       "    </tr>\n",
       "    <tr>\n",
       "      <th>3</th>\n",
       "      <td>340</td>\n",
       "      <td>230</td>\n",
       "      <td>438.23</td>\n",
       "      <td>278.65</td>\n",
       "    </tr>\n",
       "    <tr>\n",
       "      <th>4</th>\n",
       "      <td>390</td>\n",
       "      <td>190</td>\n",
       "      <td>345.79</td>\n",
       "      <td>110.13</td>\n",
       "    </tr>\n",
       "    <tr>\n",
       "      <th>5</th>\n",
       "      <td>280</td>\n",
       "      <td>350</td>\n",
       "      <td>153.78</td>\n",
       "      <td>13.95</td>\n",
       "    </tr>\n",
       "    <tr>\n",
       "      <th>6</th>\n",
       "      <td>220</td>\n",
       "      <td>190</td>\n",
       "      <td>290.00</td>\n",
       "      <td>92.29</td>\n",
       "    </tr>\n",
       "    <tr>\n",
       "      <th>7</th>\n",
       "      <td>190</td>\n",
       "      <td>140</td>\n",
       "      <td>102.39</td>\n",
       "      <td>61.45</td>\n",
       "    </tr>\n",
       "    <tr>\n",
       "      <th>8</th>\n",
       "      <td>160</td>\n",
       "      <td>33</td>\n",
       "      <td>187.74</td>\n",
       "      <td>34.63</td>\n",
       "    </tr>\n",
       "    <tr>\n",
       "      <th>9</th>\n",
       "      <td>320</td>\n",
       "      <td>250</td>\n",
       "      <td>244.12</td>\n",
       "      <td>180.75</td>\n",
       "    </tr>\n",
       "    <tr>\n",
       "      <th>10</th>\n",
       "      <td>270</td>\n",
       "      <td>200</td>\n",
       "      <td>320.89</td>\n",
       "      <td>52.02</td>\n",
       "    </tr>\n",
       "    <tr>\n",
       "      <th>11</th>\n",
       "      <td>360</td>\n",
       "      <td>120</td>\n",
       "      <td>387.14</td>\n",
       "      <td>209.17</td>\n",
       "    </tr>\n",
       "    <tr>\n",
       "      <th>12</th>\n",
       "      <td>90</td>\n",
       "      <td>140</td>\n",
       "      <td>203.55</td>\n",
       "      <td>34.36</td>\n",
       "    </tr>\n",
       "    <tr>\n",
       "      <th>13</th>\n",
       "      <td>210</td>\n",
       "      <td>260</td>\n",
       "      <td>383.28</td>\n",
       "      <td>262.81</td>\n",
       "    </tr>\n",
       "    <tr>\n",
       "      <th>14</th>\n",
       "      <td>370</td>\n",
       "      <td>280</td>\n",
       "      <td>389.93</td>\n",
       "      <td>271.44</td>\n",
       "    </tr>\n",
       "  </tbody>\n",
       "</table>\n",
       "</div>"
      ],
      "text/plain": [
       "    fast_download  fast_upload  speed_download  speed_upload\n",
       "0             390          250          356.39        259.18\n",
       "1             380          200          400.94        264.61\n",
       "2             270          190          315.58        136.24\n",
       "3             340          230          438.23        278.65\n",
       "4             390          190          345.79        110.13\n",
       "5             280          350          153.78         13.95\n",
       "6             220          190          290.00         92.29\n",
       "7             190          140          102.39         61.45\n",
       "8             160           33          187.74         34.63\n",
       "9             320          250          244.12        180.75\n",
       "10            270          200          320.89         52.02\n",
       "11            360          120          387.14        209.17\n",
       "12             90          140          203.55         34.36\n",
       "13            210          260          383.28        262.81\n",
       "14            370          280          389.93        271.44"
      ]
     },
     "metadata": {},
     "output_type": "display_data"
    }
   ],
   "source": [
    "idle = pd.read_csv('./data/erick/parado.csv')\n",
    "video = pd.read_csv('./data/erick/video.csv')\n",
    "stress = pd.read_csv('./data/erick/estresse.csv')\n",
    "\n",
    "print('Parado')\n",
    "display(idle)\n",
    "\n",
    "print('Assistindo YouTube')\n",
    "display(video)\n",
    "\n",
    "print('Fazendo Download da ISO do W11')\n",
    "display(stress)"
   ]
  },
  {
   "cell_type": "code",
   "execution_count": null,
   "metadata": {},
   "outputs": [],
   "source": []
  },
  {
   "cell_type": "markdown",
   "metadata": {},
   "source": [
    "### 4 - Comparando Provedores"
   ]
  },
  {
   "cell_type": "code",
   "execution_count": 27,
   "metadata": {},
   "outputs": [
    {
     "name": "stdout",
     "output_type": "stream",
     "text": [
      "Erick | VERO - Parado\n"
     ]
    },
    {
     "data": {
      "text/html": [
       "<div>\n",
       "<style scoped>\n",
       "    .dataframe tbody tr th:only-of-type {\n",
       "        vertical-align: middle;\n",
       "    }\n",
       "\n",
       "    .dataframe tbody tr th {\n",
       "        vertical-align: top;\n",
       "    }\n",
       "\n",
       "    .dataframe thead th {\n",
       "        text-align: right;\n",
       "    }\n",
       "</style>\n",
       "<table border=\"1\" class=\"dataframe\">\n",
       "  <thead>\n",
       "    <tr style=\"text-align: right;\">\n",
       "      <th></th>\n",
       "      <th>fast_download</th>\n",
       "      <th>fast_upload</th>\n",
       "      <th>speed_download</th>\n",
       "      <th>speed_upload</th>\n",
       "      <th>nperf_download</th>\n",
       "      <th>nperf_upload</th>\n",
       "    </tr>\n",
       "  </thead>\n",
       "  <tbody>\n",
       "    <tr>\n",
       "      <th>0</th>\n",
       "      <td>300</td>\n",
       "      <td>180</td>\n",
       "      <td>356.39</td>\n",
       "      <td>259.18</td>\n",
       "      <td>309.9</td>\n",
       "      <td>267.3</td>\n",
       "    </tr>\n",
       "    <tr>\n",
       "      <th>1</th>\n",
       "      <td>380</td>\n",
       "      <td>200</td>\n",
       "      <td>400.94</td>\n",
       "      <td>264.61</td>\n",
       "      <td>247.3</td>\n",
       "      <td>318.2</td>\n",
       "    </tr>\n",
       "    <tr>\n",
       "      <th>2</th>\n",
       "      <td>270</td>\n",
       "      <td>190</td>\n",
       "      <td>315.58</td>\n",
       "      <td>136.24</td>\n",
       "      <td>263.6</td>\n",
       "      <td>250.5</td>\n",
       "    </tr>\n",
       "    <tr>\n",
       "      <th>3</th>\n",
       "      <td>340</td>\n",
       "      <td>230</td>\n",
       "      <td>438.23</td>\n",
       "      <td>278.65</td>\n",
       "      <td>165.4</td>\n",
       "      <td>255.3</td>\n",
       "    </tr>\n",
       "    <tr>\n",
       "      <th>4</th>\n",
       "      <td>390</td>\n",
       "      <td>190</td>\n",
       "      <td>345.79</td>\n",
       "      <td>110.13</td>\n",
       "      <td>316.3</td>\n",
       "      <td>234.2</td>\n",
       "    </tr>\n",
       "    <tr>\n",
       "      <th>5</th>\n",
       "      <td>280</td>\n",
       "      <td>350</td>\n",
       "      <td>153.78</td>\n",
       "      <td>13.95</td>\n",
       "      <td>267.7</td>\n",
       "      <td>260.0</td>\n",
       "    </tr>\n",
       "    <tr>\n",
       "      <th>6</th>\n",
       "      <td>220</td>\n",
       "      <td>190</td>\n",
       "      <td>290.00</td>\n",
       "      <td>92.29</td>\n",
       "      <td>266.5</td>\n",
       "      <td>325.7</td>\n",
       "    </tr>\n",
       "    <tr>\n",
       "      <th>7</th>\n",
       "      <td>200</td>\n",
       "      <td>58</td>\n",
       "      <td>239.46</td>\n",
       "      <td>201.45</td>\n",
       "      <td>272.9</td>\n",
       "      <td>312.3</td>\n",
       "    </tr>\n",
       "    <tr>\n",
       "      <th>8</th>\n",
       "      <td>470</td>\n",
       "      <td>150</td>\n",
       "      <td>259.68</td>\n",
       "      <td>120.12</td>\n",
       "      <td>267.6</td>\n",
       "      <td>323.9</td>\n",
       "    </tr>\n",
       "    <tr>\n",
       "      <th>9</th>\n",
       "      <td>140</td>\n",
       "      <td>120</td>\n",
       "      <td>297.27</td>\n",
       "      <td>185.83</td>\n",
       "      <td>256.6</td>\n",
       "      <td>325.8</td>\n",
       "    </tr>\n",
       "    <tr>\n",
       "      <th>10</th>\n",
       "      <td>300</td>\n",
       "      <td>120</td>\n",
       "      <td>49.88</td>\n",
       "      <td>212.88</td>\n",
       "      <td>268.6</td>\n",
       "      <td>252.2</td>\n",
       "    </tr>\n",
       "    <tr>\n",
       "      <th>11</th>\n",
       "      <td>150</td>\n",
       "      <td>200</td>\n",
       "      <td>219.06</td>\n",
       "      <td>59.71</td>\n",
       "      <td>220.5</td>\n",
       "      <td>258.1</td>\n",
       "    </tr>\n",
       "    <tr>\n",
       "      <th>12</th>\n",
       "      <td>220</td>\n",
       "      <td>78</td>\n",
       "      <td>234.42</td>\n",
       "      <td>217.56</td>\n",
       "      <td>232.1</td>\n",
       "      <td>314.5</td>\n",
       "    </tr>\n",
       "    <tr>\n",
       "      <th>13</th>\n",
       "      <td>230</td>\n",
       "      <td>90</td>\n",
       "      <td>379.39</td>\n",
       "      <td>67.68</td>\n",
       "      <td>245.5</td>\n",
       "      <td>322.9</td>\n",
       "    </tr>\n",
       "    <tr>\n",
       "      <th>14</th>\n",
       "      <td>170</td>\n",
       "      <td>140</td>\n",
       "      <td>317.11</td>\n",
       "      <td>119.67</td>\n",
       "      <td>204.4</td>\n",
       "      <td>240.9</td>\n",
       "    </tr>\n",
       "  </tbody>\n",
       "</table>\n",
       "</div>"
      ],
      "text/plain": [
       "    fast_download  fast_upload  speed_download  speed_upload  nperf_download  \\\n",
       "0             300          180          356.39        259.18           309.9   \n",
       "1             380          200          400.94        264.61           247.3   \n",
       "2             270          190          315.58        136.24           263.6   \n",
       "3             340          230          438.23        278.65           165.4   \n",
       "4             390          190          345.79        110.13           316.3   \n",
       "5             280          350          153.78         13.95           267.7   \n",
       "6             220          190          290.00         92.29           266.5   \n",
       "7             200           58          239.46        201.45           272.9   \n",
       "8             470          150          259.68        120.12           267.6   \n",
       "9             140          120          297.27        185.83           256.6   \n",
       "10            300          120           49.88        212.88           268.6   \n",
       "11            150          200          219.06         59.71           220.5   \n",
       "12            220           78          234.42        217.56           232.1   \n",
       "13            230           90          379.39         67.68           245.5   \n",
       "14            170          140          317.11        119.67           204.4   \n",
       "\n",
       "    nperf_upload  \n",
       "0          267.3  \n",
       "1          318.2  \n",
       "2          250.5  \n",
       "3          255.3  \n",
       "4          234.2  \n",
       "5          260.0  \n",
       "6          325.7  \n",
       "7          312.3  \n",
       "8          323.9  \n",
       "9          325.8  \n",
       "10         252.2  \n",
       "11         258.1  \n",
       "12         314.5  \n",
       "13         322.9  \n",
       "14         240.9  "
      ]
     },
     "metadata": {},
     "output_type": "display_data"
    },
    {
     "name": "stdout",
     "output_type": "stream",
     "text": [
      "Carlos | GUARA DIGITAL - Parado\n"
     ]
    },
    {
     "data": {
      "text/html": [
       "<div>\n",
       "<style scoped>\n",
       "    .dataframe tbody tr th:only-of-type {\n",
       "        vertical-align: middle;\n",
       "    }\n",
       "\n",
       "    .dataframe tbody tr th {\n",
       "        vertical-align: top;\n",
       "    }\n",
       "\n",
       "    .dataframe thead th {\n",
       "        text-align: right;\n",
       "    }\n",
       "</style>\n",
       "<table border=\"1\" class=\"dataframe\">\n",
       "  <thead>\n",
       "    <tr style=\"text-align: right;\">\n",
       "      <th></th>\n",
       "      <th>fast_download</th>\n",
       "      <th>fast_upload</th>\n",
       "      <th>speed_download</th>\n",
       "      <th>speed_upload</th>\n",
       "    </tr>\n",
       "  </thead>\n",
       "  <tbody>\n",
       "    <tr>\n",
       "      <th>0</th>\n",
       "      <td>38</td>\n",
       "      <td>19</td>\n",
       "      <td>35</td>\n",
       "      <td>19</td>\n",
       "    </tr>\n",
       "    <tr>\n",
       "      <th>1</th>\n",
       "      <td>39</td>\n",
       "      <td>20</td>\n",
       "      <td>33</td>\n",
       "      <td>19</td>\n",
       "    </tr>\n",
       "    <tr>\n",
       "      <th>2</th>\n",
       "      <td>38</td>\n",
       "      <td>21</td>\n",
       "      <td>38</td>\n",
       "      <td>18</td>\n",
       "    </tr>\n",
       "    <tr>\n",
       "      <th>3</th>\n",
       "      <td>31</td>\n",
       "      <td>23</td>\n",
       "      <td>40</td>\n",
       "      <td>19</td>\n",
       "    </tr>\n",
       "    <tr>\n",
       "      <th>4</th>\n",
       "      <td>38</td>\n",
       "      <td>19</td>\n",
       "      <td>34</td>\n",
       "      <td>20</td>\n",
       "    </tr>\n",
       "    <tr>\n",
       "      <th>5</th>\n",
       "      <td>34</td>\n",
       "      <td>21</td>\n",
       "      <td>36</td>\n",
       "      <td>18</td>\n",
       "    </tr>\n",
       "    <tr>\n",
       "      <th>6</th>\n",
       "      <td>10</td>\n",
       "      <td>19</td>\n",
       "      <td>35</td>\n",
       "      <td>20</td>\n",
       "    </tr>\n",
       "    <tr>\n",
       "      <th>7</th>\n",
       "      <td>15</td>\n",
       "      <td>19</td>\n",
       "      <td>31</td>\n",
       "      <td>18</td>\n",
       "    </tr>\n",
       "    <tr>\n",
       "      <th>8</th>\n",
       "      <td>38</td>\n",
       "      <td>19</td>\n",
       "      <td>32</td>\n",
       "      <td>20</td>\n",
       "    </tr>\n",
       "    <tr>\n",
       "      <th>9</th>\n",
       "      <td>35</td>\n",
       "      <td>21</td>\n",
       "      <td>30</td>\n",
       "      <td>20</td>\n",
       "    </tr>\n",
       "    <tr>\n",
       "      <th>10</th>\n",
       "      <td>38</td>\n",
       "      <td>21</td>\n",
       "      <td>37</td>\n",
       "      <td>18</td>\n",
       "    </tr>\n",
       "    <tr>\n",
       "      <th>11</th>\n",
       "      <td>33</td>\n",
       "      <td>19</td>\n",
       "      <td>39</td>\n",
       "      <td>17</td>\n",
       "    </tr>\n",
       "    <tr>\n",
       "      <th>12</th>\n",
       "      <td>36</td>\n",
       "      <td>19</td>\n",
       "      <td>34</td>\n",
       "      <td>18</td>\n",
       "    </tr>\n",
       "    <tr>\n",
       "      <th>13</th>\n",
       "      <td>39</td>\n",
       "      <td>18</td>\n",
       "      <td>35</td>\n",
       "      <td>19</td>\n",
       "    </tr>\n",
       "    <tr>\n",
       "      <th>14</th>\n",
       "      <td>38</td>\n",
       "      <td>18</td>\n",
       "      <td>37</td>\n",
       "      <td>17</td>\n",
       "    </tr>\n",
       "  </tbody>\n",
       "</table>\n",
       "</div>"
      ],
      "text/plain": [
       "    fast_download  fast_upload  speed_download  speed_upload\n",
       "0              38           19              35            19\n",
       "1              39           20              33            19\n",
       "2              38           21              38            18\n",
       "3              31           23              40            19\n",
       "4              38           19              34            20\n",
       "5              34           21              36            18\n",
       "6              10           19              35            20\n",
       "7              15           19              31            18\n",
       "8              38           19              32            20\n",
       "9              35           21              30            20\n",
       "10             38           21              37            18\n",
       "11             33           19              39            17\n",
       "12             36           19              34            18\n",
       "13             39           18              35            19\n",
       "14             38           18              37            17"
      ]
     },
     "metadata": {},
     "output_type": "display_data"
    }
   ],
   "source": [
    "erick_idle = pd.read_csv('./data/erick/parado.csv')\n",
    "carlos_idle = pd.read_csv('./data/carlos/parado.csv')\n",
    "\n",
    "print('Erick | VERO - Parado')\n",
    "display(idle)\n",
    "\n",
    "print('Carlos | GUARA DIGITAL - Parado')\n",
    "display(carlos_idle)"
   ]
  },
  {
   "cell_type": "markdown",
   "metadata": {},
   "source": [
    "#### Dados de Internet - Erick"
   ]
  },
  {
   "cell_type": "code",
   "execution_count": 28,
   "metadata": {},
   "outputs": [
    {
     "name": "stdout",
     "output_type": "stream",
     "text": [
      "Erick Média de Download: 270.6666666666667\n",
      "Erick Mediana de Download: 270.0\n",
      "Erick Desvio Padrão: 94.90345971916234\n",
      "\n",
      "Erick Média de Upload: 165.73333333333332\n",
      "Erick Mediana de Upload: 180.0\n",
      "Erick Desvio Padrão: 71.97962674720304\n",
      "\n"
     ]
    }
   ],
   "source": [
    "e_fast_download_mean, e_fast_download_median, e_fast_download_std = calc_metrics(erick_idle, 'fast_download')\n",
    "\n",
    "print(f'Erick Média de Download: {e_fast_download_mean}')\n",
    "print(f'Erick Mediana de Download: {e_fast_download_median}')\n",
    "print(f'Erick Desvio Padrão: {e_fast_download_std}\\n')\n",
    "\n",
    "e_fast_upload_mean, e_fast_upload_median, e_fast_upload_std = calc_metrics(erick_idle, 'fast_upload')\n",
    "\n",
    "print(f'Erick Média de Upload: {e_fast_upload_mean}')\n",
    "print(f'Erick Mediana de Upload: {e_fast_upload_median}')\n",
    "print(f'Erick Desvio Padrão: {e_fast_upload_std}\\n')"
   ]
  },
  {
   "cell_type": "code",
   "execution_count": 29,
   "metadata": {},
   "outputs": [
    {
     "data": {
      "image/png": "[encoded data removed]",
      "text/plain": [
       "<Figure size 640x480 with 1 Axes>"
      ]
     },
     "metadata": {},
     "output_type": "display_data"
    }
   ],
   "source": [
    "ax = erick_idle[['fast_download', 'fast_upload']].plot()\n",
    "ax.set_xlabel(\"Intervalos de Medida\")\n",
    "ax.set_ylabel(\"Velocidade\")\n",
    "plt.show()"
   ]
  },
  {
   "cell_type": "markdown",
   "metadata": {},
   "source": [
    "#### Dados de Internet - Carlos"
   ]
  },
  {
   "cell_type": "code",
   "execution_count": 30,
   "metadata": {},
   "outputs": [
    {
     "name": "stdout",
     "output_type": "stream",
     "text": [
      "Carlos Média de Download: 33.333333333333336\n",
      "Carlos Mediana de Download: 38.0\n",
      "Carlos Desvio Padrão: 8.829064557040057\n",
      "\n",
      "Carlos Média de Upload: 19.733333333333334\n",
      "Carlos Mediana de Upload: 19.0\n",
      "Carlos Desvio Padrão: 1.3870146083619754\n",
      "\n"
     ]
    }
   ],
   "source": [
    "c_fast_download_mean, c_fast_download_median, c_fast_download_std = calc_metrics(carlos_idle, 'fast_download')\n",
    "\n",
    "print(f'Carlos Média de Download: {c_fast_download_mean}')\n",
    "print(f'Carlos Mediana de Download: {c_fast_download_median}')\n",
    "print(f'Carlos Desvio Padrão: {c_fast_download_std}\\n')\n",
    "\n",
    "c_fast_upload_mean, c_fast_upload_median, c_fast_upload_std = calc_metrics(carlos_idle, 'fast_upload')\n",
    "\n",
    "print(f'Carlos Média de Upload: {c_fast_upload_mean}')\n",
    "print(f'Carlos Mediana de Upload: {c_fast_upload_median}')\n",
    "print(f'Carlos Desvio Padrão: {c_fast_upload_std}\\n')"
   ]
  },
  {
   "cell_type": "code",
   "execution_count": 31,
   "metadata": {},
   "outputs": [
    {
     "data": {
      "image/png": "[encoded data removed]",
      "text/plain": [
       "<Figure size 640x480 with 1 Axes>"
      ]
     },
     "metadata": {},
     "output_type": "display_data"
    }
   ],
   "source": [
    "ax = carlos_idle[['fast_download', 'fast_upload']].plot()\n",
    "ax.set_xlabel(\"Intervalos de Medida\")\n",
    "ax.set_ylabel(\"Velocidade\")\n",
    "plt.show()"
   ]
  },
  {
   "cell_type": "code",
   "execution_count": 32,
   "metadata": {},
   "outputs": [],
   "source": [
    "n = len(erick_idle['fast_download'])\n",
    "confidence = .95\n"
   ]
  },
  {
   "cell_type": "markdown",
   "metadata": {},
   "source": [
    "$$H0: Erick\\;Download = Carlos\\;Download$$\n",
    "$$H1: Erick\\;Download > Carlos\\;Download$$"
   ]
  },
  {
   "cell_type": "code",
   "execution_count": 33,
   "metadata": {},
   "outputs": [
    {
     "name": "stdout",
     "output_type": "stream",
     "text": [
      "t0.05; 15\n"
     ]
    }
   ],
   "source": [
    "v = calc_v_t_student(e_fast_download_std, c_fast_download_std, n)\n",
    "print(f't{round(1-confidence,3)}; {v}')"
   ]
  },
  {
   "cell_type": "markdown",
   "metadata": {},
   "source": [
    "Buscamos o valor acima na tabela T-Student e dela retiramos 1.753.\n",
    "\n",
    "Calculando o intervalo de confiança unilateral obtemos:"
   ]
  },
  {
   "cell_type": "code",
   "execution_count": 34,
   "metadata": {},
   "outputs": [
    {
     "name": "stdout",
     "output_type": "stream",
     "text": [
      "(194.19238905769595, 280.47427760897074)\n"
     ]
    }
   ],
   "source": [
    "group_download_comp_interval = calc_confidence_interval_comp(\n",
    "    1.753, e_fast_download_mean, c_fast_download_mean, e_fast_download_std, c_fast_download_std, n)\n",
    "print(group_download_comp_interval)\n"
   ]
  },
  {
   "cell_type": "markdown",
   "metadata": {},
   "source": [
    "---"
   ]
  },
  {
   "cell_type": "markdown",
   "metadata": {},
   "source": [
    "$$H0: Erick\\;Upload = Carlos\\;Upload$$\n",
    "$$H1: Erick\\;Upload > Carlos\\;Upload$$"
   ]
  },
  {
   "cell_type": "code",
   "execution_count": 35,
   "metadata": {},
   "outputs": [
    {
     "name": "stdout",
     "output_type": "stream",
     "text": [
      "t0.05; 15\n"
     ]
    }
   ],
   "source": [
    "v = calc_v_t_student(e_fast_upload_std, c_fast_upload_std, n)\n",
    "print(f't{round(1-confidence,3)}; {v}')"
   ]
  },
  {
   "cell_type": "markdown",
   "metadata": {},
   "source": [
    "Buscamos o valor acima na tabela T-Student e dela retiramos 1.753.\n",
    "\n",
    "Calculando o intervalo de confiança unilateral obtemos:"
   ]
  },
  {
   "cell_type": "code",
   "execution_count": 36,
   "metadata": {},
   "outputs": [
    {
     "name": "stdout",
     "output_type": "stream",
     "text": [
      "(113.41434223440459, 178.5856577655954)\n"
     ]
    }
   ],
   "source": [
    "group_upload_comp_interval = calc_confidence_interval_comp(\n",
    "    1.753, e_fast_upload_mean, c_fast_upload_mean, e_fast_upload_std, c_fast_upload_std, n)\n",
    "print(group_upload_comp_interval)"
   ]
  },
  {
   "cell_type": "markdown",
   "metadata": {},
   "source": [
    "### 5 - Comparação Multipla"
   ]
  },
  {
   "cell_type": "markdown",
   "metadata": {},
   "source": [
    "Faremos a comparação múlitipla das 3 amostras coletadas no teste sem estresse (para os 3 medidores distintos) e verificaremos\n",
    "se eles são estatísticamente iguais.\n",
    "\n",
    "$$H0: Fast\\;Upload = Speed\\;Upload = NPerf\\;Upload$$\n",
    "$$H1: Pelo\\;menos\\;um\\;medidor\\;é\\;diferente$$\n",
    "\n",
    "Para confirmar ou rejeitar H0, usaremos o teste de Kruskal-Wallis a partir do seguinte código:"
   ]
  },
  {
   "cell_type": "code",
   "execution_count": 42,
   "metadata": {},
   "outputs": [
    {
     "data": {
      "text/plain": [
       "3.173457510948085e-05"
      ]
     },
     "execution_count": 42,
     "metadata": {},
     "output_type": "execute_result"
    }
   ],
   "source": [
    "X = idle['fast_upload']\n",
    "Y = idle['speed_upload']\n",
    "Z = idle['nperf_upload']\n",
    "\n",
    "s, pvalue = stats.kruskal(X,Y,Z)\n",
    "\n",
    "pvalue"
   ]
  },
  {
   "cell_type": "markdown",
   "metadata": {},
   "source": [
    "$$H0: Fast\\;Download = Speed\\;Download = NPerf\\;Download$$\n",
    "$$H1: Pelo\\;menos\\;um\\;medidor\\;é\\;diferente$$"
   ]
  },
  {
   "cell_type": "code",
   "execution_count": 43,
   "metadata": {},
   "outputs": [
    {
     "data": {
      "text/plain": [
       "0.40366390636737126"
      ]
     },
     "execution_count": 43,
     "metadata": {},
     "output_type": "execute_result"
    }
   ],
   "source": [
    "X = idle['fast_download']\n",
    "Y = idle['speed_download']\n",
    "Z = idle['nperf_download']\n",
    "\n",
    "s, pvalue = stats.kruskal(X,Y,Z)\n",
    "\n",
    "pvalue"
   ]
  }
 ],
 "metadata": {
  "kernelspec": {
   "display_name": "Python 3.8.10 64-bit",
   "language": "python",
   "name": "python3"
  },
  "language_info": {
   "codemirror_mode": {
    "name": "ipython",
    "version": 3
   },
   "file_extension": ".py",
   "mimetype": "text/x-python",
   "name": "python",
   "nbconvert_exporter": "python",
   "pygments_lexer": "ipython3",
   "version": "3.8.10"
  },
  "orig_nbformat": 4,
  "vscode": {
   "interpreter": {
    "hash": "916dbcbb3f70747c44a77c7bcd40155683ae19c65e1c03b4aa3499c5328201f1"
   }
  }
 },
 "nbformat": 4,
 "nbformat_minor": 2
}
